{
 "metadata": {
  "language_info": {
   "codemirror_mode": {
    "name": "ipython",
    "version": 3
   },
   "file_extension": ".py",
   "mimetype": "text/x-python",
   "name": "python",
   "nbconvert_exporter": "python",
   "pygments_lexer": "ipython3",
   "version": "3.8.0-final"
  },
  "orig_nbformat": 2,
  "kernelspec": {
   "name": "python38064bitunifacisacondac641bab870f4417792362a23cd92e79a",
   "display_name": "Python 3.8.0 64-bit ('unifacisa': conda)"
  }
 },
 "nbformat": 4,
 "nbformat_minor": 2,
 "cells": [
  {
   "source": [
    "# Deep Learning -Quando usar?"
   ],
   "cell_type": "markdown",
   "metadata": {}
  },
  {
   "cell_type": "code",
   "execution_count": null,
   "metadata": {},
   "outputs": [],
   "source": [
    "import numpy as np\n",
    "import pandas as pd\n",
    "import tensorflow\n",
    "import keras\n",
    "import sklearn\n",
    "from sklearn.preprocessing import StandardScaler\n",
    "from time import time"
   ]
  },
  {
   "cell_type": "code",
   "execution_count": null,
   "metadata": {},
   "outputs": [],
   "source": [
    "np.random.seed(1337)"
   ]
  },
  {
   "cell_type": "code",
   "execution_count": null,
   "metadata": {},
   "outputs": [],
   "source": [
    "df = pd.read_csv('data/titanic.csv')\n",
    "df.head()"
   ]
  },
  {
   "cell_type": "code",
   "execution_count": null,
   "metadata": {},
   "outputs": [],
   "source": [
    "df_train = df.iloc[:712, :]\n",
    "\n",
    "scaler = StandardScaler()\n",
    "features = ['Class', 'Sex', 'Age', 'Fare']\n",
    "\n",
    "X_train = scaler.fit_transform(df_train[features].values)\n",
    "y_train = df_train['Survived'].values\n",
    "y_train_onehot = pd.get_dummies(df_train['Survived']).values"
   ]
  },
  {
   "cell_type": "code",
   "execution_count": null,
   "metadata": {},
   "outputs": [],
   "source": [
    "df_test = df.iloc[712:, :]\n",
    "\n",
    "X_test = scaler.transform(df_test[features].values)\n",
    "y_test = df_test['Survived'].values"
   ]
  },
  {
   "cell_type": "code",
   "execution_count": null,
   "metadata": {},
   "outputs": [],
   "source": [
    "X_train"
   ]
  },
  {
   "cell_type": "code",
   "execution_count": null,
   "metadata": {},
   "outputs": [],
   "source": [
    "y_train"
   ]
  },
  {
   "cell_type": "code",
   "execution_count": null,
   "metadata": {},
   "outputs": [],
   "source": [
    "def calculo_de_tempo_em_execucao(start: float = time()) -> float:\n",
    "    \"\"\"Método que irá calcular o tempo de execução a partir de um start\n",
    "\n",
    "    Args:\n",
    "        start (float, optional): tempo decorrido após o start. Defaults to time().\n",
    "\n",
    "    Returns:\n",
    "        float: tempo decorrido de execução.\n",
    "    \"\"\"\n",
    "    print ('Tempo gasto: %s em segundos \\n' % str(time() - start))\n",
    "    return time() - start"
   ]
  },
  {
   "source": [
    "## Modelo de Árvore de Decisão"
   ],
   "cell_type": "markdown",
   "metadata": {}
  },
  {
   "cell_type": "code",
   "execution_count": null,
   "metadata": {},
   "outputs": [],
   "source": [
    "from sklearn.ensemble import RandomForestClassifier\n",
    "\n",
    "start = time()\n",
    "\n",
    "model = RandomForestClassifier(random_state=0, verbose=3)\n",
    "model = model.fit(X_train, df_train['Survived'].values)\n",
    "\n",
    "y_prediction = model.predict(X_test)\n",
    "print (\"\\nAcurácia\", np.sum(y_prediction == y_test) / float(len(y_test)))\n",
    "\n",
    "modelo_1_tempo = calculo_de_tempo_em_execucao(start)\n",
    "\n",
    "modelo_1_acuracia = np.sum(y_prediction == y_test) / float(len(y_test))"
   ]
  },
  {
   "source": [
    "## Rede Neural com 1 Camada"
   ],
   "cell_type": "markdown",
   "metadata": {}
  },
  {
   "cell_type": "code",
   "execution_count": null,
   "metadata": {},
   "outputs": [],
   "source": [
    "from keras.models import Sequential\n",
    "from keras.layers import Dense, Activation\n",
    "\n",
    "start = time()\n",
    "\n",
    "model = Sequential()\n",
    "\n",
    "model.add(Dense(input_dim=4, units=2))\n",
    "\n",
    "model.add(Activation(\"softmax\"))\n",
    "\n",
    "model.compile(loss='categorical_crossentropy', optimizer='sgd', metrics=['accuracy'])\n",
    "\n",
    "model.fit(X_train, y_train_onehot, epochs=10)\n",
    "\n",
    "y_prediction = model.predict_classes(X_test)\n",
    "print (\"\\n\\nAcurácia\", np.sum(y_prediction == y_test) / float(len(y_test)))\n",
    "\n",
    "modelo_2_tempo = calculo_de_tempo_em_execucao(start)\n",
    "modelo_2_acuracia = np.sum(y_prediction == y_test) / float(len(y_test))"
   ]
  },
  {
   "source": [
    "## Rede Neural com 2 Camada"
   ],
   "cell_type": "markdown",
   "metadata": {}
  },
  {
   "cell_type": "code",
   "execution_count": null,
   "metadata": {},
   "outputs": [],
   "source": [
    "start = time()\n",
    "\n",
    "model = Sequential()\n",
    "\n",
    "model.add(Dense(input_dim=4, units = 100))\n",
    "\n",
    "model.add(Dense(units=2))\n",
    "\n",
    "model.add(Activation(\"softmax\"))\n",
    "\n",
    "model.compile(loss='categorical_crossentropy', optimizer='sgd', metrics=['accuracy'])\n",
    "\n",
    "model.fit(X_train, y_train_onehot, epochs=10)\n",
    "\n",
    "\n",
    "y_prediction = model.predict_classes(X_test)\n",
    "print (\"\\n\\nAcurácia\", np.sum(y_prediction == y_test) / float(len(y_test)))\n",
    "\n",
    "modelo_3_tempo = calculo_de_tempo_em_execucao(start)\n",
    "modelo_3_acuracia = np.sum(y_prediction == y_test) / float(len(y_test))"
   ]
  },
  {
   "source": [
    "## Rede Neural com 3 Camadas"
   ],
   "cell_type": "markdown",
   "metadata": {}
  },
  {
   "cell_type": "code",
   "execution_count": null,
   "metadata": {},
   "outputs": [],
   "source": [
    "start = time()\n",
    "\n",
    "model = Sequential()\n",
    "\n",
    "model.add(Dense(input_dim=4, units=100))\n",
    "\n",
    "model.add(Dense(units=100))\n",
    "\n",
    "model.add(Dense(units=2))\n",
    "\n",
    "model.add(Activation(\"softmax\"))\n",
    "\n",
    "model.compile(loss='categorical_crossentropy', optimizer='sgd', metrics=['accuracy'])\n",
    "\n",
    "model.fit(X_train, y_train_onehot, epochs=10)\n",
    "\n",
    "y_prediction = model.predict_classes(X_test)\n",
    "print (\"\\n\\nAcurácia\", np.sum(y_prediction == y_test) / float(len(y_test)))\n",
    "\n",
    "modelo_4_tempo = calculo_de_tempo_em_execucao(start)\n",
    "modelo_4_acuracia = np.sum(y_prediction == y_test) / float(len(y_test))"
   ]
  },
  {
   "source": [
    "# Comparação entre modelos"
   ],
   "cell_type": "markdown",
   "metadata": {}
  },
  {
   "cell_type": "code",
   "execution_count": null,
   "metadata": {},
   "outputs": [],
   "source": [
    "print(f'Árvode de decisão, acurácia = {modelo_1_acuracia} e tempo de execução = {modelo_1_tempo}')\n",
    "print(f'Rede neural 1, acurácia = {modelo_2_acuracia} e tempo de execução = {modelo_2_tempo}')\n",
    "print(f'Rede neural 2, acurácia = {modelo_3_acuracia} e tempo de execução = {modelo_3_tempo}')\n",
    "print(f'Rede neural 3, acurácia = {modelo_4_acuracia} e tempo de execução = {modelo_4_tempo}')\n"
   ]
  },
  {
   "source": [
    "## Fim"
   ],
   "cell_type": "markdown",
   "metadata": {}
  }
 ]
}